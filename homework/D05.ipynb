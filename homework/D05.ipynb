{
 "cells": [
  {
   "cell_type": "code",
   "execution_count": 4,
   "metadata": {},
   "outputs": [],
   "source": [
    "import numpy as np"
   ]
  },
  {
   "cell_type": "code",
   "execution_count": 7,
   "metadata": {},
   "outputs": [
    {
     "name": "stdout",
     "output_type": "stream",
     "text": [
      "67.16666666666667\n",
      "89\n",
      "48\n",
      "13.433995020924426\n",
      "66.6\n",
      "85.0\n",
      "60.0\n",
      "9.707728879609279\n",
      "75.33333333333333\n",
      "90\n",
      "65\n",
      "8.825468196582484\n"
     ]
    }
   ],
   "source": [
    "english_score = np.array([55,89,76,65,48,70])\n",
    "math_score = np.array([60,85,60,68,np.nan,60])\n",
    "chinese_score = np.array([65,90,82,72,66,77])\n",
    "\n",
    "#1. 請計算各科成績平均、最大值、最小值、標準差，其中數學缺一筆資料可忽略?\n",
    "\n",
    "#英文：平均67.17、最大值89、最小值48、標準差13.43\n",
    "print(np.mean(english_score, axis=None))\n",
    "print(np.max(english_score, axis=None))\n",
    "print(np.min(english_score, axis=None))\n",
    "print(np.std(english_score, axis=None))\n",
    "\n",
    "#數學：平均66.6、最大值85、最小值60、標準差9.71\n",
    "print(np.nanmean(math_score, axis=None))\n",
    "print(np.nanmax(math_score, axis=None))\n",
    "print(np.nanmin(math_score, axis=None))\n",
    "print(np.nanstd(math_score, axis=None))\n",
    "\n",
    "#國語：平均75.33、最大值90、最小值65、標準差8.83\n",
    "print(np.mean(chinese_score, axis=None))\n",
    "print(np.max(chinese_score, axis=None))\n",
    "print(np.min(chinese_score, axis=None))\n",
    "print(np.std(chinese_score, axis=None))\n"
   ]
  },
  {
   "cell_type": "code",
   "execution_count": 10,
   "metadata": {},
   "outputs": [
    {
     "name": "stdout",
     "output_type": "stream",
     "text": [
      "64.66666666666667\n",
      "85\n",
      "55\n",
      "9.860132971832694\n"
     ]
    }
   ],
   "source": [
    "#2. 第五位同學補考數學後成績為55，請計算補考後數學成績平均、最大值、最小值、標準差?\n",
    "#補考後平均64.67、最大值85、最小值55、標準差9.86\n",
    "math_score2 = np.array([60,85,60,68,55,60])\n",
    "print(np.mean(math_score2, axis=None))\n",
    "print(np.max(math_score2, axis=None))\n",
    "print(np.min(math_score2, axis=None))\n",
    "print(np.std(math_score2, axis=None))\n"
   ]
  },
  {
   "cell_type": "code",
   "execution_count": null,
   "metadata": {},
   "outputs": [],
   "source": [
    "#3. 用補考後資料找出與國文成績相關係數最高的學科?\n",
    "np.corrcoef(english_scoreㄝ)\n"
   ]
  }
 ],
 "metadata": {
  "kernelspec": {
   "display_name": "Python 3",
   "language": "python",
   "name": "python3"
  },
  "language_info": {
   "codemirror_mode": {
    "name": "ipython",
    "version": 3
   },
   "file_extension": ".py",
   "mimetype": "text/x-python",
   "name": "python",
   "nbconvert_exporter": "python",
   "pygments_lexer": "ipython3",
   "version": "3.8.5"
  }
 },
 "nbformat": 4,
 "nbformat_minor": 4
}
