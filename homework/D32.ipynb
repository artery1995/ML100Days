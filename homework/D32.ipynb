{
 "cells": [
  {
   "cell_type": "code",
   "execution_count": null,
   "metadata": {},
   "outputs": [],
   "source": [
    "#如果拒絕域改變時，α 和 β 會怎樣變化。\n",
    "\n",
    "#1.   假設 x̄ > 2，拒絕 H0，α 會變大／變小？β 會變大／變小？\n",
    "beta會變大，alpha會變小\n",
    "\n",
    "#2.   假設 x̄ > 0.2，拒絕 Ho，會變大／變小？β 會變大/變小？\n",
    "beta會變小，alpha會變大\n",
    "\n",
    "#3.   α 和 β 有關聯性？\n",
    "彼此是權衡的概念，\n",
    "alpha會變大，beta就會變小\n",
    "alpha會變小，beta就會變大"
   ]
  }
 ],
 "metadata": {
  "kernelspec": {
   "display_name": "Python 3",
   "language": "python",
   "name": "python3"
  },
  "language_info": {
   "codemirror_mode": {
    "name": "ipython",
    "version": 3
   },
   "file_extension": ".py",
   "mimetype": "text/x-python",
   "name": "python",
   "nbconvert_exporter": "python",
   "pygments_lexer": "ipython3",
   "version": "3.8.5"
  }
 },
 "nbformat": 4,
 "nbformat_minor": 4
}
