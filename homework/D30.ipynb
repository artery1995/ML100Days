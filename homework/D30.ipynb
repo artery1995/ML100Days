{
 "cells": [
  {
   "cell_type": "code",
   "execution_count": 1,
   "metadata": {},
   "outputs": [
    {
     "name": "stdout",
     "output_type": "stream",
     "text": [
      "P(A|B) = 35.71\n"
     ]
    }
   ],
   "source": [
    "#Q1：所以根據這個情況條件下。你會預測照片中的長髮是男性或女性？ (直覺回答)\n",
    "#男生\n",
    "\n",
    "#Q2：以下圖資料，計算當你看到長髮時，是女生的機率？\n",
    "#35.71\n",
    "\n",
    "def bayes_theorem(p_a, p_b_given_a, p_b_given_not_a):\n",
    "# calculate P(not A)\n",
    "not_a = 1 - p_a\n",
    "# calculate P(B)\n",
    "p_b = p_b_given_a * p_a + p_b_given_not_a * not_a\n",
    "# calculate P(A|B)\n",
    "p_a_given_b = (p_b_given_a * p_a) / p_b\n",
    "return p_a_given_b\n",
    " \n",
    "# P(A): P(女生)\n",
    "# P(not A): P(男生)\n",
    "p_a = 0.1\n",
    "# P(B|A): P(長髮|女生)\n",
    "p_b_given_a = 0.5\n",
    "# P(B|not A): P(長髮|男生)\n",
    "p_b_given_not_a = 0.1\n",
    "# calculate P(A|B): P(女生|長髮)\n",
    "result = bayes_theorem(p_a, p_b_given_a, p_b_given_not_a)\n",
    "# summarize\n",
    "# P(女生|長髮)\n",
    "print('P(A|B) = {0}'.format(round(result * 100,2)))\n",
    "\n",
    "#Q3：你的決策因為男生女生比例不同 (先驗分配不同)，決策有沒有改變？\n",
    "#有"
   ]
  },
  {
   "cell_type": "code",
   "execution_count": null,
   "metadata": {},
   "outputs": [],
   "source": []
  }
 ],
 "metadata": {
  "kernelspec": {
   "display_name": "Python 3",
   "language": "python",
   "name": "python3"
  },
  "language_info": {
   "codemirror_mode": {
    "name": "ipython",
    "version": 3
   },
   "file_extension": ".py",
   "mimetype": "text/x-python",
   "name": "python",
   "nbconvert_exporter": "python",
   "pygments_lexer": "ipython3",
   "version": "3.8.5"
  }
 },
 "nbformat": 4,
 "nbformat_minor": 4
}
